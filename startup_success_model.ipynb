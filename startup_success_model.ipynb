{
 "cells": [
  {
   "cell_type": "markdown",
   "id": "b481e0d6",
   "metadata": {},
   "source": [
    "### Carregamento das Dependências do Projeto\n",
    "\n",
    "Nesta seção, realizamos o carregamento das principais bibliotecas Python necessárias para análise de dados e construção do modelo de machine learning."
   ]
  },
  {
   "cell_type": "code",
   "execution_count": 42,
   "id": "c8b328b5",
   "metadata": {},
   "outputs": [],
   "source": [
    "import pandas as pd # importa o pandas\n",
    "import numpy as np # importa o numpy\n",
    "import sklearn as sk # importa o sklearn\n",
    "import seaborn as sns # importa o seaborn\n",
    "import matplotlib.pyplot as plt # importa o matplotlib"
   ]
  },
  {
   "cell_type": "markdown",
   "id": "29510d5b",
   "metadata": {},
   "source": [
    "### Carregamento da Base de Dados\n",
    "\n",
    "Esta etapa consiste na leitura dos arquivos CSV fornecidos pela competição Kaggle, incluindo os conjuntos de treino, teste e exemplo de submissão para desenvolvimento do modelo preditivo de sucesso de startups."
   ]
  },
  {
   "cell_type": "code",
   "execution_count": 43,
   "id": "67dccda0",
   "metadata": {},
   "outputs": [
    {
     "data": {
      "application/vnd.microsoft.datawrangler.viewer.v0+json": {
       "columns": [
        {
         "name": "index",
         "rawType": "int64",
         "type": "integer"
        },
        {
         "name": "id",
         "rawType": "int64",
         "type": "integer"
        },
        {
         "name": "age_first_funding_year",
         "rawType": "float64",
         "type": "float"
        },
        {
         "name": "age_last_funding_year",
         "rawType": "float64",
         "type": "float"
        },
        {
         "name": "age_first_milestone_year",
         "rawType": "float64",
         "type": "float"
        },
        {
         "name": "age_last_milestone_year",
         "rawType": "float64",
         "type": "float"
        },
        {
         "name": "relationships",
         "rawType": "int64",
         "type": "integer"
        },
        {
         "name": "funding_rounds",
         "rawType": "int64",
         "type": "integer"
        },
        {
         "name": "funding_total_usd",
         "rawType": "int64",
         "type": "integer"
        },
        {
         "name": "milestones",
         "rawType": "int64",
         "type": "integer"
        },
        {
         "name": "is_CA",
         "rawType": "int64",
         "type": "integer"
        },
        {
         "name": "is_NY",
         "rawType": "int64",
         "type": "integer"
        },
        {
         "name": "is_MA",
         "rawType": "int64",
         "type": "integer"
        },
        {
         "name": "is_TX",
         "rawType": "int64",
         "type": "integer"
        },
        {
         "name": "is_otherstate",
         "rawType": "int64",
         "type": "integer"
        },
        {
         "name": "category_code",
         "rawType": "object",
         "type": "string"
        },
        {
         "name": "is_software",
         "rawType": "int64",
         "type": "integer"
        },
        {
         "name": "is_web",
         "rawType": "int64",
         "type": "integer"
        },
        {
         "name": "is_mobile",
         "rawType": "int64",
         "type": "integer"
        },
        {
         "name": "is_enterprise",
         "rawType": "int64",
         "type": "integer"
        },
        {
         "name": "is_advertising",
         "rawType": "int64",
         "type": "integer"
        },
        {
         "name": "is_gamesvideo",
         "rawType": "int64",
         "type": "integer"
        },
        {
         "name": "is_ecommerce",
         "rawType": "int64",
         "type": "integer"
        },
        {
         "name": "is_biotech",
         "rawType": "int64",
         "type": "integer"
        },
        {
         "name": "is_consulting",
         "rawType": "int64",
         "type": "integer"
        },
        {
         "name": "is_othercategory",
         "rawType": "int64",
         "type": "integer"
        },
        {
         "name": "has_VC",
         "rawType": "int64",
         "type": "integer"
        },
        {
         "name": "has_angel",
         "rawType": "int64",
         "type": "integer"
        },
        {
         "name": "has_roundA",
         "rawType": "int64",
         "type": "integer"
        },
        {
         "name": "has_roundB",
         "rawType": "int64",
         "type": "integer"
        },
        {
         "name": "has_roundC",
         "rawType": "int64",
         "type": "integer"
        },
        {
         "name": "has_roundD",
         "rawType": "int64",
         "type": "integer"
        },
        {
         "name": "avg_participants",
         "rawType": "float64",
         "type": "float"
        },
        {
         "name": "labels",
         "rawType": "int64",
         "type": "integer"
        }
       ],
       "ref": "0c6cbc86-f004-461a-8063-fb14ed113558",
       "rows": [
        [
         "0",
         "719",
         "10.42",
         "13.09",
         "8.98",
         "12.72",
         "4",
         "3",
         "4087500",
         "3",
         "1",
         "0",
         "0",
         "0",
         "0",
         "enterprise",
         "0",
         "0",
         "0",
         "1",
         "0",
         "0",
         "0",
         "0",
         "0",
         "0",
         "1",
         "1",
         "0",
         "0",
         "0",
         "0",
         "1.0",
         "0"
        ],
        [
         "1",
         "429",
         "3.79",
         "3.79",
         null,
         null,
         "21",
         "1",
         "45000000",
         "0",
         "0",
         "1",
         "0",
         "0",
         "0",
         "advertising",
         "0",
         "0",
         "0",
         "0",
         "1",
         "0",
         "0",
         "0",
         "0",
         "0",
         "0",
         "0",
         "0",
         "1",
         "0",
         "0",
         "1.0",
         "1"
        ],
        [
         "2",
         "178",
         "0.71",
         "2.28",
         "1.95",
         "2.28",
         "5",
         "2",
         "5200000",
         "2",
         "1",
         "0",
         "0",
         "0",
         "0",
         "photo_video",
         "0",
         "0",
         "0",
         "0",
         "0",
         "0",
         "0",
         "0",
         "0",
         "1",
         "1",
         "0",
         "1",
         "0",
         "0",
         "0",
         "1.0",
         "0"
        ],
        [
         "3",
         "197",
         "3.0",
         "5.0",
         "9.62",
         "10.39",
         "16",
         "2",
         "14500000",
         "2",
         "0",
         "0",
         "1",
         "0",
         "0",
         "advertising",
         "0",
         "0",
         "0",
         "0",
         "1",
         "0",
         "0",
         "0",
         "0",
         "0",
         "0",
         "1",
         "0",
         "1",
         "0",
         "0",
         "2.0",
         "1"
        ],
        [
         "4",
         "444",
         "0.66",
         "5.88",
         "6.21",
         "8.61",
         "29",
         "5",
         "70000000",
         "4",
         "1",
         "0",
         "0",
         "0",
         "0",
         "web",
         "0",
         "1",
         "0",
         "0",
         "0",
         "0",
         "0",
         "0",
         "0",
         "0",
         "0",
         "0",
         "1",
         "1",
         "1",
         "1",
         "2.8",
         "1"
        ]
       ],
       "shape": {
        "columns": 33,
        "rows": 5
       }
      },
      "text/html": [
       "<div>\n",
       "<style scoped>\n",
       "    .dataframe tbody tr th:only-of-type {\n",
       "        vertical-align: middle;\n",
       "    }\n",
       "\n",
       "    .dataframe tbody tr th {\n",
       "        vertical-align: top;\n",
       "    }\n",
       "\n",
       "    .dataframe thead th {\n",
       "        text-align: right;\n",
       "    }\n",
       "</style>\n",
       "<table border=\"1\" class=\"dataframe\">\n",
       "  <thead>\n",
       "    <tr style=\"text-align: right;\">\n",
       "      <th></th>\n",
       "      <th>id</th>\n",
       "      <th>age_first_funding_year</th>\n",
       "      <th>age_last_funding_year</th>\n",
       "      <th>age_first_milestone_year</th>\n",
       "      <th>age_last_milestone_year</th>\n",
       "      <th>relationships</th>\n",
       "      <th>funding_rounds</th>\n",
       "      <th>funding_total_usd</th>\n",
       "      <th>milestones</th>\n",
       "      <th>is_CA</th>\n",
       "      <th>...</th>\n",
       "      <th>is_consulting</th>\n",
       "      <th>is_othercategory</th>\n",
       "      <th>has_VC</th>\n",
       "      <th>has_angel</th>\n",
       "      <th>has_roundA</th>\n",
       "      <th>has_roundB</th>\n",
       "      <th>has_roundC</th>\n",
       "      <th>has_roundD</th>\n",
       "      <th>avg_participants</th>\n",
       "      <th>labels</th>\n",
       "    </tr>\n",
       "  </thead>\n",
       "  <tbody>\n",
       "    <tr>\n",
       "      <th>0</th>\n",
       "      <td>719</td>\n",
       "      <td>10.42</td>\n",
       "      <td>13.09</td>\n",
       "      <td>8.98</td>\n",
       "      <td>12.72</td>\n",
       "      <td>4</td>\n",
       "      <td>3</td>\n",
       "      <td>4087500</td>\n",
       "      <td>3</td>\n",
       "      <td>1</td>\n",
       "      <td>...</td>\n",
       "      <td>0</td>\n",
       "      <td>0</td>\n",
       "      <td>1</td>\n",
       "      <td>1</td>\n",
       "      <td>0</td>\n",
       "      <td>0</td>\n",
       "      <td>0</td>\n",
       "      <td>0</td>\n",
       "      <td>1.0</td>\n",
       "      <td>0</td>\n",
       "    </tr>\n",
       "    <tr>\n",
       "      <th>1</th>\n",
       "      <td>429</td>\n",
       "      <td>3.79</td>\n",
       "      <td>3.79</td>\n",
       "      <td>NaN</td>\n",
       "      <td>NaN</td>\n",
       "      <td>21</td>\n",
       "      <td>1</td>\n",
       "      <td>45000000</td>\n",
       "      <td>0</td>\n",
       "      <td>0</td>\n",
       "      <td>...</td>\n",
       "      <td>0</td>\n",
       "      <td>0</td>\n",
       "      <td>0</td>\n",
       "      <td>0</td>\n",
       "      <td>0</td>\n",
       "      <td>1</td>\n",
       "      <td>0</td>\n",
       "      <td>0</td>\n",
       "      <td>1.0</td>\n",
       "      <td>1</td>\n",
       "    </tr>\n",
       "    <tr>\n",
       "      <th>2</th>\n",
       "      <td>178</td>\n",
       "      <td>0.71</td>\n",
       "      <td>2.28</td>\n",
       "      <td>1.95</td>\n",
       "      <td>2.28</td>\n",
       "      <td>5</td>\n",
       "      <td>2</td>\n",
       "      <td>5200000</td>\n",
       "      <td>2</td>\n",
       "      <td>1</td>\n",
       "      <td>...</td>\n",
       "      <td>0</td>\n",
       "      <td>1</td>\n",
       "      <td>1</td>\n",
       "      <td>0</td>\n",
       "      <td>1</td>\n",
       "      <td>0</td>\n",
       "      <td>0</td>\n",
       "      <td>0</td>\n",
       "      <td>1.0</td>\n",
       "      <td>0</td>\n",
       "    </tr>\n",
       "    <tr>\n",
       "      <th>3</th>\n",
       "      <td>197</td>\n",
       "      <td>3.00</td>\n",
       "      <td>5.00</td>\n",
       "      <td>9.62</td>\n",
       "      <td>10.39</td>\n",
       "      <td>16</td>\n",
       "      <td>2</td>\n",
       "      <td>14500000</td>\n",
       "      <td>2</td>\n",
       "      <td>0</td>\n",
       "      <td>...</td>\n",
       "      <td>0</td>\n",
       "      <td>0</td>\n",
       "      <td>0</td>\n",
       "      <td>1</td>\n",
       "      <td>0</td>\n",
       "      <td>1</td>\n",
       "      <td>0</td>\n",
       "      <td>0</td>\n",
       "      <td>2.0</td>\n",
       "      <td>1</td>\n",
       "    </tr>\n",
       "    <tr>\n",
       "      <th>4</th>\n",
       "      <td>444</td>\n",
       "      <td>0.66</td>\n",
       "      <td>5.88</td>\n",
       "      <td>6.21</td>\n",
       "      <td>8.61</td>\n",
       "      <td>29</td>\n",
       "      <td>5</td>\n",
       "      <td>70000000</td>\n",
       "      <td>4</td>\n",
       "      <td>1</td>\n",
       "      <td>...</td>\n",
       "      <td>0</td>\n",
       "      <td>0</td>\n",
       "      <td>0</td>\n",
       "      <td>0</td>\n",
       "      <td>1</td>\n",
       "      <td>1</td>\n",
       "      <td>1</td>\n",
       "      <td>1</td>\n",
       "      <td>2.8</td>\n",
       "      <td>1</td>\n",
       "    </tr>\n",
       "  </tbody>\n",
       "</table>\n",
       "<p>5 rows × 33 columns</p>\n",
       "</div>"
      ],
      "text/plain": [
       "    id  age_first_funding_year  age_last_funding_year  \\\n",
       "0  719                   10.42                  13.09   \n",
       "1  429                    3.79                   3.79   \n",
       "2  178                    0.71                   2.28   \n",
       "3  197                    3.00                   5.00   \n",
       "4  444                    0.66                   5.88   \n",
       "\n",
       "   age_first_milestone_year  age_last_milestone_year  relationships  \\\n",
       "0                      8.98                    12.72              4   \n",
       "1                       NaN                      NaN             21   \n",
       "2                      1.95                     2.28              5   \n",
       "3                      9.62                    10.39             16   \n",
       "4                      6.21                     8.61             29   \n",
       "\n",
       "   funding_rounds  funding_total_usd  milestones  is_CA  ...  is_consulting  \\\n",
       "0               3            4087500           3      1  ...              0   \n",
       "1               1           45000000           0      0  ...              0   \n",
       "2               2            5200000           2      1  ...              0   \n",
       "3               2           14500000           2      0  ...              0   \n",
       "4               5           70000000           4      1  ...              0   \n",
       "\n",
       "   is_othercategory  has_VC  has_angel has_roundA  has_roundB  has_roundC  \\\n",
       "0                 0       1          1          0           0           0   \n",
       "1                 0       0          0          0           1           0   \n",
       "2                 1       1          0          1           0           0   \n",
       "3                 0       0          1          0           1           0   \n",
       "4                 0       0          0          1           1           1   \n",
       "\n",
       "   has_roundD  avg_participants  labels  \n",
       "0           0               1.0       0  \n",
       "1           0               1.0       1  \n",
       "2           0               1.0       0  \n",
       "3           0               2.0       1  \n",
       "4           1               2.8       1  \n",
       "\n",
       "[5 rows x 33 columns]"
      ]
     },
     "execution_count": 43,
     "metadata": {},
     "output_type": "execute_result"
    }
   ],
   "source": [
    "test = pd.read_csv('test.csv') # importa o arquivo de teste\n",
    "train = pd.read_csv('train.csv') # importa o arquivo de treino\n",
    "sample = pd.read_csv('sample_submission.csv') # importa o arquivo de submissão\n",
    "\n",
    "train.head() # mostra as primeiras linhas do arquivo de treino para visualização"
   ]
  },
  {
   "cell_type": "markdown",
   "id": "80064b28",
   "metadata": {},
   "source": [
    "### Análise e Tratamento de Dados Ausentes\n",
    "\n",
    "Realizamos uma investigação sistemática para identificar valores faltantes na base de dados, quantificando sua ocorrência em cada atributo e implementando estratégias de preenchimento adequadas."
   ]
  },
  {
   "cell_type": "code",
   "execution_count": 44,
   "id": "8ddf4b74",
   "metadata": {},
   "outputs": [
    {
     "data": {
      "application/vnd.microsoft.datawrangler.viewer.v0+json": {
       "columns": [
        {
         "name": "index",
         "rawType": "object",
         "type": "string"
        },
        {
         "name": "0",
         "rawType": "int64",
         "type": "integer"
        }
       ],
       "ref": "869aace4-e60e-4656-be76-d69f320e3ab4",
       "rows": [
        [
         "id",
         "0"
        ],
        [
         "age_first_funding_year",
         "35"
        ],
        [
         "age_last_funding_year",
         "9"
        ],
        [
         "age_first_milestone_year",
         "138"
        ],
        [
         "age_last_milestone_year",
         "111"
        ],
        [
         "relationships",
         "0"
        ],
        [
         "funding_rounds",
         "0"
        ],
        [
         "funding_total_usd",
         "0"
        ],
        [
         "milestones",
         "0"
        ],
        [
         "is_CA",
         "0"
        ],
        [
         "is_NY",
         "0"
        ],
        [
         "is_MA",
         "0"
        ],
        [
         "is_TX",
         "0"
        ],
        [
         "is_otherstate",
         "0"
        ],
        [
         "category_code",
         "0"
        ],
        [
         "is_software",
         "0"
        ],
        [
         "is_web",
         "0"
        ],
        [
         "is_mobile",
         "0"
        ],
        [
         "is_enterprise",
         "0"
        ],
        [
         "is_advertising",
         "0"
        ],
        [
         "is_gamesvideo",
         "0"
        ],
        [
         "is_ecommerce",
         "0"
        ],
        [
         "is_biotech",
         "0"
        ],
        [
         "is_consulting",
         "0"
        ],
        [
         "is_othercategory",
         "0"
        ],
        [
         "has_VC",
         "0"
        ],
        [
         "has_angel",
         "0"
        ],
        [
         "has_roundA",
         "0"
        ],
        [
         "has_roundB",
         "0"
        ],
        [
         "has_roundC",
         "0"
        ],
        [
         "has_roundD",
         "0"
        ],
        [
         "avg_participants",
         "0"
        ],
        [
         "labels",
         "0"
        ]
       ],
       "shape": {
        "columns": 1,
        "rows": 33
       }
      },
      "text/plain": [
       "id                            0\n",
       "age_first_funding_year       35\n",
       "age_last_funding_year         9\n",
       "age_first_milestone_year    138\n",
       "age_last_milestone_year     111\n",
       "relationships                 0\n",
       "funding_rounds                0\n",
       "funding_total_usd             0\n",
       "milestones                    0\n",
       "is_CA                         0\n",
       "is_NY                         0\n",
       "is_MA                         0\n",
       "is_TX                         0\n",
       "is_otherstate                 0\n",
       "category_code                 0\n",
       "is_software                   0\n",
       "is_web                        0\n",
       "is_mobile                     0\n",
       "is_enterprise                 0\n",
       "is_advertising                0\n",
       "is_gamesvideo                 0\n",
       "is_ecommerce                  0\n",
       "is_biotech                    0\n",
       "is_consulting                 0\n",
       "is_othercategory              0\n",
       "has_VC                        0\n",
       "has_angel                     0\n",
       "has_roundA                    0\n",
       "has_roundB                    0\n",
       "has_roundC                    0\n",
       "has_roundD                    0\n",
       "avg_participants              0\n",
       "labels                        0\n",
       "dtype: int64"
      ]
     },
     "execution_count": 44,
     "metadata": {},
     "output_type": "execute_result"
    }
   ],
   "source": [
    "train.isnull().sum() # verifica aonde tem valores nulos"
   ]
  },
  {
   "cell_type": "markdown",
   "id": "941ed155",
   "metadata": {},
   "source": [
    "A estratégia adotada para o tratamento de valores ausentes consiste na substituição por zero nas colunas identificadas com dados faltantes. Esta abordagem é validada através de uma nova verificação que confirma a eliminação completa dos valores nulos."
   ]
  },
  {
   "cell_type": "code",
   "execution_count": 45,
   "id": "960da80f",
   "metadata": {},
   "outputs": [
    {
     "data": {
      "application/vnd.microsoft.datawrangler.viewer.v0+json": {
       "columns": [
        {
         "name": "index",
         "rawType": "object",
         "type": "string"
        },
        {
         "name": "0",
         "rawType": "int64",
         "type": "integer"
        }
       ],
       "ref": "412580e6-b53a-4d1b-b90a-f9c0b98405c2",
       "rows": [
        [
         "id",
         "0"
        ],
        [
         "age_first_funding_year",
         "0"
        ],
        [
         "age_last_funding_year",
         "0"
        ],
        [
         "age_first_milestone_year",
         "0"
        ],
        [
         "age_last_milestone_year",
         "0"
        ],
        [
         "relationships",
         "0"
        ],
        [
         "funding_rounds",
         "0"
        ],
        [
         "funding_total_usd",
         "0"
        ],
        [
         "milestones",
         "0"
        ],
        [
         "is_CA",
         "0"
        ],
        [
         "is_NY",
         "0"
        ],
        [
         "is_MA",
         "0"
        ],
        [
         "is_TX",
         "0"
        ],
        [
         "is_otherstate",
         "0"
        ],
        [
         "category_code",
         "0"
        ],
        [
         "is_software",
         "0"
        ],
        [
         "is_web",
         "0"
        ],
        [
         "is_mobile",
         "0"
        ],
        [
         "is_enterprise",
         "0"
        ],
        [
         "is_advertising",
         "0"
        ],
        [
         "is_gamesvideo",
         "0"
        ],
        [
         "is_ecommerce",
         "0"
        ],
        [
         "is_biotech",
         "0"
        ],
        [
         "is_consulting",
         "0"
        ],
        [
         "is_othercategory",
         "0"
        ],
        [
         "has_VC",
         "0"
        ],
        [
         "has_angel",
         "0"
        ],
        [
         "has_roundA",
         "0"
        ],
        [
         "has_roundB",
         "0"
        ],
        [
         "has_roundC",
         "0"
        ],
        [
         "has_roundD",
         "0"
        ],
        [
         "avg_participants",
         "0"
        ]
       ],
       "shape": {
        "columns": 1,
        "rows": 32
       }
      },
      "text/plain": [
       "id                          0\n",
       "age_first_funding_year      0\n",
       "age_last_funding_year       0\n",
       "age_first_milestone_year    0\n",
       "age_last_milestone_year     0\n",
       "relationships               0\n",
       "funding_rounds              0\n",
       "funding_total_usd           0\n",
       "milestones                  0\n",
       "is_CA                       0\n",
       "is_NY                       0\n",
       "is_MA                       0\n",
       "is_TX                       0\n",
       "is_otherstate               0\n",
       "category_code               0\n",
       "is_software                 0\n",
       "is_web                      0\n",
       "is_mobile                   0\n",
       "is_enterprise               0\n",
       "is_advertising              0\n",
       "is_gamesvideo               0\n",
       "is_ecommerce                0\n",
       "is_biotech                  0\n",
       "is_consulting               0\n",
       "is_othercategory            0\n",
       "has_VC                      0\n",
       "has_angel                   0\n",
       "has_roundA                  0\n",
       "has_roundB                  0\n",
       "has_roundC                  0\n",
       "has_roundD                  0\n",
       "avg_participants            0\n",
       "dtype: int64"
      ]
     },
     "execution_count": 45,
     "metadata": {},
     "output_type": "execute_result"
    }
   ],
   "source": [
    "age_cols = [ # lista com as colunas que tem valores nulos\n",
    "    'age_first_funding_year',\n",
    "    'age_last_funding_year',\n",
    "    'age_first_milestone_year',\n",
    "    'age_last_milestone_year'\n",
    "]\n",
    "\n",
    "for col in age_cols: # para cada colunas, substitui os valores nulos por 0 tanto no arquivo de treino quanto no de teste\n",
    "    train[col] = train[col].fillna(0)\n",
    "    test[col] = test[col].fillna(0)\n",
    "\n",
    "train.isnull().sum() # verifica se ainda tem valores nulos no arquivo de treino\n",
    "test.isnull().sum() # verifica se ainda tem valores nulos no arquivo de teste"
   ]
  },
  {
   "cell_type": "markdown",
   "id": "54682c95",
   "metadata": {},
   "source": [
    "### Transformação de Variáveis Categóricas\n",
    "\n",
    "Aplicação de técnicas de encoding para converter variáveis categóricas em formato numérico, permitindo sua utilização em algoritmos de machine learning."
   ]
  },
  {
   "cell_type": "markdown",
   "id": "5f630041",
   "metadata": {},
   "source": [
    "Investigação dos valores únicos presentes no atributo 'category_code' para compreender a diversidade de categorias e preparar o processo de codificação."
   ]
  },
  {
   "cell_type": "code",
   "execution_count": 46,
   "id": "33eac18c",
   "metadata": {},
   "outputs": [
    {
     "data": {
      "text/plain": [
       "array(['enterprise', 'advertising', 'photo_video', 'web', 'software',\n",
       "       'games_video', 'mobile', 'sports', 'fashion', 'semiconductor',\n",
       "       'security', 'biotech', 'hardware', 'public_relations', 'ecommerce',\n",
       "       'other', 'social', 'cleantech', 'manufacturing', 'automotive',\n",
       "       'network_hosting', 'messaging', 'music', 'travel', 'consulting',\n",
       "       'search', 'finance', 'medical', 'analytics', 'real_estate',\n",
       "       'education', 'health', 'news', 'transportation'], dtype=object)"
      ]
     },
     "execution_count": 46,
     "metadata": {},
     "output_type": "execute_result"
    }
   ],
   "source": [
    "train['category_code'].unique() # verificação de todas as possibilidades da categoria"
   ]
  },
  {
   "cell_type": "markdown",
   "id": "436e4276",
   "metadata": {},
   "source": [
    "Implementação da técnica OneHotEncoding para transformar a variável categórica 'category_code' em múltiplas variáveis binárias. Cada categoria é representada por uma nova coluna com valores 0 ou 1, indicando ausência ou presença da característica. O atributo original é removido após a transformação."
   ]
  },
  {
   "cell_type": "code",
   "execution_count": 47,
   "id": "d31ce47f",
   "metadata": {},
   "outputs": [],
   "source": [
    "from sklearn.preprocessing import OneHotEncoder # importa o OneHotEncoder\n",
    "\n",
    "ohe = OneHotEncoder(handle_unknown='ignore', sparse_output=False) # cria o objeto OneHotEncoder\n",
    "ohe.fit(train[['category_code']]) # treina o objeto OneHotEncoder com a coluna category_code\n",
    "\n",
    "train_cat_encoded = ohe.transform(train[['category_code']]) # transforma a coluna category_code em um objeto com as colunas codificadas para o arquivo de treino\n",
    "test_cat_encoded = ohe.transform(test[['category_code']]) # transforma a coluna category_code em um objeto com as colunas codificadas para o arquivo de teste\n",
    "\n",
    "cols_encoded = ohe.get_feature_names_out(['category_code']) # pega o nome das colunas codificadas\n",
    "train_cat_df = pd.DataFrame(train_cat_encoded, columns=cols_encoded, index=train.index) # transforma o objeto em um novo dataframe para o arquivo de treino\n",
    "test_cat_df = pd.DataFrame(test_cat_encoded, columns=cols_encoded, index=test.index) # transforma o objeto em um novo dataframe para o arquivo de teste\n",
    "\n",
    "train = pd.concat([train.drop(columns=['category_code']), train_cat_df], axis=1) # concatena o dataframe com as colunas codificadas e remove a coluna category_code do arquivo de treino\n",
    "test = pd.concat([test.drop(columns=['category_code']), test_cat_df], axis=1) # concatena o dataframe com as colunas codificadas e remove a coluna category_code do arquivo de teste\n"
   ]
  },
  {
   "cell_type": "markdown",
   "id": "ba9de2d5",
   "metadata": {},
   "source": [
    "### Engenharia de Atributos\n",
    "\n",
    "Desenvolvimento de novas variáveis derivadas dos dados originais para enriquecer o poder preditivo do modelo e capturar padrões mais complexos."
   ]
  },
  {
   "cell_type": "markdown",
   "id": "ceefa4da",
   "metadata": {},
   "source": [
    "Construção de novos atributos estratégicos incluindo métricas financeiras derivadas, transformações logarítmicas para normalização de distribuições assimétricas, e indicadores binários para características importantes como presença de financiamento e marcos alcançados."
   ]
  },
  {
   "cell_type": "code",
   "execution_count": 48,
   "id": "6ebd0da3",
   "metadata": {},
   "outputs": [],
   "source": [
    "# cria uma nova coluna com o valor do funding por round\n",
    "train['funding_per_round'] = train['funding_total_usd'] / (train['funding_rounds'] + 1)  \n",
    "test['funding_per_round'] = test['funding_total_usd'] / (test['funding_rounds'] + 1)\n",
    "\n",
    "# cria uma nova coluna com o logaritmo do funding total\n",
    "train['log_funding_total'] = np.log1p(train['funding_total_usd']) \n",
    "test['log_funding_total'] = np.log1p(test['funding_total_usd'])\n",
    "\n",
    "# cria uma nova coluna com o logaritmo das relações\n",
    "train['log_relationships'] = np.log1p(train['relationships']) \n",
    "test['log_relationships'] = np.log1p(test['relationships'])\n",
    "\n",
    "# cria uma nova coluna com 1 se tiver funding e 0 se não tiver\n",
    "train['has_funding'] = (train['funding_rounds'] > 0).astype(int) \n",
    "test['has_funding'] = (test['funding_rounds'] > 0).astype(int)\n",
    "\n",
    "# cria uma nova coluna com 1 se tiver milestone e 0 se não tiver\n",
    "train['has_milestone'] = (train['milestones'] > 0).astype(int) \n",
    "test['has_milestone'] = (test['milestones'] > 0).astype(int)\n",
    "\n",
    "# cria uma nova coluna com a razão entre o número de milestones e a idade do último milestone\n",
    "train['milestone_ratio'] = train['milestones'] / (train['age_last_milestone_year'] + 1) \n",
    "test['milestone_ratio'] = test['milestones'] / (test['age_last_milestone_year'] + 1)"
   ]
  },
  {
   "cell_type": "markdown",
   "id": "4b6ccb9c",
   "metadata": {},
   "source": [
    "### Análise Exploratória e Visualização de Dados\n",
    "\n",
    "Desenvolvimento de insights através da investigação visual dos padrões presentes nos dados, focando na compreensão da distribuição das variáveis e suas relações com o target."
   ]
  },
  {
   "cell_type": "markdown",
   "id": "05b691b5",
   "metadata": {},
   "source": [
    "Investigação da distribuição da variável resposta 'labels' para compreender o balanceamento entre as classes de sucesso e fracasso das startups na base de dados."
   ]
  },
  {
   "cell_type": "code",
   "execution_count": 49,
   "id": "274af97f",
   "metadata": {},
   "outputs": [
    {
     "name": "stdout",
     "output_type": "stream",
     "text": [
      "labels\n",
      "1    0.647059\n",
      "0    0.352941\n",
      "Name: proportion, dtype: float64\n"
     ]
    },
    {
     "data": {
      "image/png": "[encoded data removed]",
      "text/plain": [
       "<Figure size 640x480 with 1 Axes>"
      ]
     },
     "metadata": {},
     "output_type": "display_data"
    }
   ],
   "source": [
    "print(train['labels'].value_counts(normalize=True)) # verifica a prorporção de zero e um na coluna 'labels'\n",
    "train['labels'].value_counts().plot(kind='bar', title='Distribuição das Classes', color=['#FFB6C1', '#FF69B4']) # plota um gráfico de barras com a distribuição da coluna 'labels'\n",
    "plt.show()"
   ]
  },
  {
   "cell_type": "markdown",
   "id": "b7451784",
   "metadata": {},
   "source": [
    "Análise das medidas estatísticas descritivas do conjunto de dados para identificar tendências centrais, dispersão e possíveis valores atípicos que possam impactar a performance do modelo."
   ]
  },
  {
   "cell_type": "code",
   "execution_count": 50,
   "id": "b0c44e78",
   "metadata": {},
   "outputs": [
    {
     "data": {
      "application/vnd.microsoft.datawrangler.viewer.v0+json": {
       "columns": [
        {
         "name": "index",
         "rawType": "object",
         "type": "string"
        },
        {
         "name": "id",
         "rawType": "float64",
         "type": "float"
        },
        {
         "name": "age_first_funding_year",
         "rawType": "float64",
         "type": "float"
        },
        {
         "name": "age_last_funding_year",
         "rawType": "float64",
         "type": "float"
        },
        {
         "name": "age_first_milestone_year",
         "rawType": "float64",
         "type": "float"
        },
        {
         "name": "age_last_milestone_year",
         "rawType": "float64",
         "type": "float"
        },
        {
         "name": "relationships",
         "rawType": "float64",
         "type": "float"
        },
        {
         "name": "funding_rounds",
         "rawType": "float64",
         "type": "float"
        },
        {
         "name": "funding_total_usd",
         "rawType": "float64",
         "type": "float"
        },
        {
         "name": "milestones",
         "rawType": "float64",
         "type": "float"
        },
        {
         "name": "is_CA",
         "rawType": "float64",
         "type": "float"
        },
        {
         "name": "is_NY",
         "rawType": "float64",
         "type": "float"
        },
        {
         "name": "is_MA",
         "rawType": "float64",
         "type": "float"
        },
        {
         "name": "is_TX",
         "rawType": "float64",
         "type": "float"
        },
        {
         "name": "is_otherstate",
         "rawType": "float64",
         "type": "float"
        },
        {
         "name": "is_software",
         "rawType": "float64",
         "type": "float"
        },
        {
         "name": "is_web",
         "rawType": "float64",
         "type": "float"
        },
        {
         "name": "is_mobile",
         "rawType": "float64",
         "type": "float"
        },
        {
         "name": "is_enterprise",
         "rawType": "float64",
         "type": "float"
        },
        {
         "name": "is_advertising",
         "rawType": "float64",
         "type": "float"
        },
        {
         "name": "is_gamesvideo",
         "rawType": "float64",
         "type": "float"
        },
        {
         "name": "is_ecommerce",
         "rawType": "float64",
         "type": "float"
        },
        {
         "name": "is_biotech",
         "rawType": "float64",
         "type": "float"
        },
        {
         "name": "is_consulting",
         "rawType": "float64",
         "type": "float"
        },
        {
         "name": "is_othercategory",
         "rawType": "float64",
         "type": "float"
        },
        {
         "name": "has_VC",
         "rawType": "float64",
         "type": "float"
        },
        {
         "name": "has_angel",
         "rawType": "float64",
         "type": "float"
        },
        {
         "name": "has_roundA",
         "rawType": "float64",
         "type": "float"
        },
        {
         "name": "has_roundB",
         "rawType": "float64",
         "type": "float"
        },
        {
         "name": "has_roundC",
         "rawType": "float64",
         "type": "float"
        },
        {
         "name": "has_roundD",
         "rawType": "float64",
         "type": "float"
        },
        {
         "name": "avg_participants",
         "rawType": "float64",
         "type": "float"
        },
        {
         "name": "labels",
         "rawType": "float64",
         "type": "float"
        },
        {
         "name": "category_code_advertising",
         "rawType": "float64",
         "type": "float"
        },
        {
         "name": "category_code_analytics",
         "rawType": "float64",
         "type": "float"
        },
        {
         "name": "category_code_automotive",
         "rawType": "float64",
         "type": "float"
        },
        {
         "name": "category_code_biotech",
         "rawType": "float64",
         "type": "float"
        },
        {
         "name": "category_code_cleantech",
         "rawType": "float64",
         "type": "float"
        },
        {
         "name": "category_code_consulting",
         "rawType": "float64",
         "type": "float"
        },
        {
         "name": "category_code_ecommerce",
         "rawType": "float64",
         "type": "float"
        },
        {
         "name": "category_code_education",
         "rawType": "float64",
         "type": "float"
        },
        {
         "name": "category_code_enterprise",
         "rawType": "float64",
         "type": "float"
        },
        {
         "name": "category_code_fashion",
         "rawType": "float64",
         "type": "float"
        },
        {
         "name": "category_code_finance",
         "rawType": "float64",
         "type": "float"
        },
        {
         "name": "category_code_games_video",
         "rawType": "float64",
         "type": "float"
        },
        {
         "name": "category_code_hardware",
         "rawType": "float64",
         "type": "float"
        },
        {
         "name": "category_code_health",
         "rawType": "float64",
         "type": "float"
        },
        {
         "name": "category_code_manufacturing",
         "rawType": "float64",
         "type": "float"
        },
        {
         "name": "category_code_medical",
         "rawType": "float64",
         "type": "float"
        },
        {
         "name": "category_code_messaging",
         "rawType": "float64",
         "type": "float"
        },
        {
         "name": "category_code_mobile",
         "rawType": "float64",
         "type": "float"
        },
        {
         "name": "category_code_music",
         "rawType": "float64",
         "type": "float"
        },
        {
         "name": "category_code_network_hosting",
         "rawType": "float64",
         "type": "float"
        },
        {
         "name": "category_code_news",
         "rawType": "float64",
         "type": "float"
        },
        {
         "name": "category_code_other",
         "rawType": "float64",
         "type": "float"
        },
        {
         "name": "category_code_photo_video",
         "rawType": "float64",
         "type": "float"
        },
        {
         "name": "category_code_public_relations",
         "rawType": "float64",
         "type": "float"
        },
        {
         "name": "category_code_real_estate",
         "rawType": "float64",
         "type": "float"
        },
        {
         "name": "category_code_search",
         "rawType": "float64",
         "type": "float"
        },
        {
         "name": "category_code_security",
         "rawType": "float64",
         "type": "float"
        },
        {
         "name": "category_code_semiconductor",
         "rawType": "float64",
         "type": "float"
        },
        {
         "name": "category_code_social",
         "rawType": "float64",
         "type": "float"
        },
        {
         "name": "category_code_software",
         "rawType": "float64",
         "type": "float"
        },
        {
         "name": "category_code_sports",
         "rawType": "float64",
         "type": "float"
        },
        {
         "name": "category_code_transportation",
         "rawType": "float64",
         "type": "float"
        },
        {
         "name": "category_code_travel",
         "rawType": "float64",
         "type": "float"
        },
        {
         "name": "category_code_web",
         "rawType": "float64",
         "type": "float"
        },
        {
         "name": "funding_per_round",
         "rawType": "float64",
         "type": "float"
        },
        {
         "name": "log_funding_total",
         "rawType": "float64",
         "type": "float"
        },
        {
         "name": "log_relationships",
         "rawType": "float64",
         "type": "float"
        },
        {
         "name": "has_funding",
         "rawType": "float64",
         "type": "float"
        },
        {
         "name": "has_milestone",
         "rawType": "float64",
         "type": "float"
        },
        {
         "name": "milestone_ratio",
         "rawType": "float64",
         "type": "float"
        }
       ],
       "ref": "33846b7f-d0a5-4399-bb7d-e9af427aaef8",
       "rows": [
        [
         "count",
         "646.0",
         "646.0",
         "646.0",
         "646.0",
         "646.0",
         "646.0",
         "646.0",
         "646.0",
         "646.0",
         "646.0",
         "646.0",
         "646.0",
         "646.0",
         "646.0",
         "646.0",
         "646.0",
         "646.0",
         "646.0",
         "646.0",
         "646.0",
         "646.0",
         "646.0",
         "646.0",
         "646.0",
         "646.0",
         "646.0",
         "646.0",
         "646.0",
         "646.0",
         "646.0",
         "646.0",
         "646.0",
         "646.0",
         "646.0",
         "646.0",
         "646.0",
         "646.0",
         "646.0",
         "646.0",
         "646.0",
         "646.0",
         "646.0",
         "646.0",
         "646.0",
         "646.0",
         "646.0",
         "646.0",
         "646.0",
         "646.0",
         "646.0",
         "646.0",
         "646.0",
         "646.0",
         "646.0",
         "646.0",
         "646.0",
         "646.0",
         "646.0",
         "646.0",
         "646.0",
         "646.0",
         "646.0",
         "646.0",
         "646.0",
         "646.0",
         "646.0",
         "646.0",
         "646.0",
         "646.0",
         "646.0",
         "646.0",
         "646.0"
        ],
        [
         "mean",
         "461.57739938080493",
         "2.21484520123839",
         "3.9814705882352945",
         "2.636455108359133",
         "4.095092879256966",
         "7.9489164086687305",
         "2.3513931888544892",
         "29496329.854489163",
         "1.9133126934984521",
         "0.5464396284829721",
         "0.10990712074303406",
         "0.09442724458204334",
         "0.03715170278637771",
         "0.21052631578947367",
         "0.16253869969040247",
         "0.15015479876160992",
         "0.10061919504643962",
         "0.08204334365325078",
         "0.0696594427244582",
         "0.05727554179566564",
         "0.030959752321981424",
         "0.03869969040247678",
         "0.0030959752321981426",
         "0.30495356037151705",
         "0.32972136222910214",
         "0.26006191950464397",
         "0.5154798761609907",
         "0.4195046439628483",
         "0.23529411764705882",
         "0.0913312693498452",
         "2.8486554179566563",
         "0.6470588235294118",
         "0.0696594427244582",
         "0.021671826625386997",
         "0.0015479876160990713",
         "0.03869969040247678",
         "0.021671826625386997",
         "0.0030959752321981426",
         "0.030959752321981424",
         "0.0030959752321981426",
         "0.08204334365325078",
         "0.010835913312693499",
         "0.0046439628482972135",
         "0.05727554179566564",
         "0.02786377708978328",
         "0.0030959752321981426",
         "0.0015479876160990713",
         "0.006191950464396285",
         "0.01393188854489164",
         "0.10061919504643962",
         "0.007739938080495356",
         "0.02786377708978328",
         "0.010835913312693499",
         "0.010835913312693499",
         "0.009287925696594427",
         "0.02321981424148607",
         "0.0030959752321981426",
         "0.01393188854489164",
         "0.018575851393188854",
         "0.03715170278637771",
         "0.015479876160990712",
         "0.16253869969040247",
         "0.0015479876160990713",
         "0.0030959752321981426",
         "0.006191950464396285",
         "0.15015479876160992",
         "7297385.451891371",
         "15.783565536475042",
         "1.9021493671502296",
         "1.0",
         "0.8405572755417957",
         "0.411957830282876"
        ],
        [
         "std",
         "264.8594643589561",
         "2.4582977454851873",
         "2.968291942990704",
         "2.8899833378984128",
         "3.4688933392527375",
         "7.3976021928631965",
         "1.357856122648494",
         "226199892.76239964",
         "1.3370947974695067",
         "0.498224461642628",
         "0.3130163193289939",
         "0.29264879096535007",
         "0.18927998675161864",
         "0.40799836800979195",
         "0.36923015769669354",
         "0.3574998986721249",
         "0.3010569296956983",
         "0.27464339891580763",
         "0.25476946587092036",
         "0.23254841940950932",
         "0.17334289606996606",
         "0.19302772319639636",
         "0.0555983387395508",
         "0.4607445080692621",
         "0.470476172847644",
         "0.43900803885069645",
         "0.5001475770402266",
         "0.49386035355716645",
         "0.42451119928917475",
         "0.28830285300655556",
         "1.8940503196233127",
         "0.4782549217497281",
         "0.25476946587092036",
         "0.1457224420594132",
         "0.039344473768231684",
         "0.19302772319639636",
         "0.1457224420594132",
         "0.0555983387395508",
         "0.17334289606996606",
         "0.05559833873955079",
         "0.27464339891580763",
         "0.10361039580605338",
         "0.06804089184818413",
         "0.23254841940950932",
         "0.16470999655435695",
         "0.05559833873955079",
         "0.039344473768231684",
         "0.07850573669990264",
         "0.1172991471720088",
         "0.3010569296956983",
         "0.0877036969830365",
         "0.16470999655435695",
         "0.10361039580605337",
         "0.10361039580605337",
         "0.09599961600230397",
         "0.15071767737546185",
         "0.05559833873955079",
         "0.1172991471720088",
         "0.13512606679530262",
         "0.18927998675161864",
         "0.12354706750456239",
         "0.36923015769669354",
         "0.039344473768231684",
         "0.05559833873955079",
         "0.07850573669990264",
         "0.3574998986721249",
         "45527106.80848272",
         "1.8664798000401044",
         "0.7780780503887024",
         "0.0",
         "0.36637211434795447",
         "0.3262066977733226"
        ],
        [
         "min",
         "1.0",
         "0.0",
         "0.0",
         "0.0",
         "0.0",
         "0.0",
         "1.0",
         "11000.0",
         "0.0",
         "0.0",
         "0.0",
         "0.0",
         "0.0",
         "0.0",
         "0.0",
         "0.0",
         "0.0",
         "0.0",
         "0.0",
         "0.0",
         "0.0",
         "0.0",
         "0.0",
         "0.0",
         "0.0",
         "0.0",
         "0.0",
         "0.0",
         "0.0",
         "0.0",
         "1.0",
         "0.0",
         "0.0",
         "0.0",
         "0.0",
         "0.0",
         "0.0",
         "0.0",
         "0.0",
         "0.0",
         "0.0",
         "0.0",
         "0.0",
         "0.0",
         "0.0",
         "0.0",
         "0.0",
         "0.0",
         "0.0",
         "0.0",
         "0.0",
         "0.0",
         "0.0",
         "0.0",
         "0.0",
         "0.0",
         "0.0",
         "0.0",
         "0.0",
         "0.0",
         "0.0",
         "0.0",
         "0.0",
         "0.0",
         "0.0",
         "0.0",
         "3666.6666666666665",
         "9.305741456739435",
         "0.0",
         "1.0",
         "0.0",
         "0.0"
        ],
        [
         "25%",
         "233.25",
         "0.55",
         "1.755",
         "0.0",
         "1.0",
         "3.0",
         "1.0",
         "3000000.0",
         "1.0",
         "0.0",
         "0.0",
         "0.0",
         "0.0",
         "0.0",
         "0.0",
         "0.0",
         "0.0",
         "0.0",
         "0.0",
         "0.0",
         "0.0",
         "0.0",
         "0.0",
         "0.0",
         "0.0",
         "0.0",
         "0.0",
         "0.0",
         "0.0",
         "0.0",
         "1.5",
         "0.0",
         "0.0",
         "0.0",
         "0.0",
         "0.0",
         "0.0",
         "0.0",
         "0.0",
         "0.0",
         "0.0",
         "0.0",
         "0.0",
         "0.0",
         "0.0",
         "0.0",
         "0.0",
         "0.0",
         "0.0",
         "0.0",
         "0.0",
         "0.0",
         "0.0",
         "0.0",
         "0.0",
         "0.0",
         "0.0",
         "0.0",
         "0.0",
         "0.0",
         "0.0",
         "0.0",
         "0.0",
         "0.0",
         "0.0",
         "0.0",
         "1058333.3333333333",
         "14.914123179965662",
         "1.3862943611198906",
         "1.0",
         "1.0",
         "0.16666666666666666"
        ],
        [
         "50%",
         "459.5",
         "1.435",
         "3.56",
         "2.0",
         "3.97",
         "6.0",
         "2.0",
         "10200001.5",
         "2.0",
         "1.0",
         "0.0",
         "0.0",
         "0.0",
         "0.0",
         "0.0",
         "0.0",
         "0.0",
         "0.0",
         "0.0",
         "0.0",
         "0.0",
         "0.0",
         "0.0",
         "0.0",
         "0.0",
         "0.0",
         "1.0",
         "0.0",
         "0.0",
         "0.0",
         "2.3333",
         "1.0",
         "0.0",
         "0.0",
         "0.0",
         "0.0",
         "0.0",
         "0.0",
         "0.0",
         "0.0",
         "0.0",
         "0.0",
         "0.0",
         "0.0",
         "0.0",
         "0.0",
         "0.0",
         "0.0",
         "0.0",
         "0.0",
         "0.0",
         "0.0",
         "0.0",
         "0.0",
         "0.0",
         "0.0",
         "0.0",
         "0.0",
         "0.0",
         "0.0",
         "0.0",
         "0.0",
         "0.0",
         "0.0",
         "0.0",
         "0.0",
         "3372916.666666667",
         "16.13770625561184",
         "1.9459101490553132",
         "1.0",
         "1.0",
         "0.363416244772177"
        ],
        [
         "75%",
         "692.5",
         "3.39",
         "5.56",
         "4.0",
         "6.1875",
         "10.0",
         "3.0",
         "25875000.0",
         "3.0",
         "1.0",
         "0.0",
         "0.0",
         "0.0",
         "0.0",
         "0.0",
         "0.0",
         "0.0",
         "0.0",
         "0.0",
         "0.0",
         "0.0",
         "0.0",
         "0.0",
         "1.0",
         "1.0",
         "1.0",
         "1.0",
         "1.0",
         "0.0",
         "0.0",
         "4.0",
         "1.0",
         "0.0",
         "0.0",
         "0.0",
         "0.0",
         "0.0",
         "0.0",
         "0.0",
         "0.0",
         "0.0",
         "0.0",
         "0.0",
         "0.0",
         "0.0",
         "0.0",
         "0.0",
         "0.0",
         "0.0",
         "0.0",
         "0.0",
         "0.0",
         "0.0",
         "0.0",
         "0.0",
         "0.0",
         "0.0",
         "0.0",
         "0.0",
         "0.0",
         "0.0",
         "0.0",
         "0.0",
         "0.0",
         "0.0",
         "0.0",
         "6825000.0",
         "17.068752613171554",
         "2.3978952727983707",
         "1.0",
         "1.0",
         "0.5997005988023952"
        ],
        [
         "max",
         "923.0",
         "21.9",
         "21.9",
         "24.68",
         "24.68",
         "63.0",
         "8.0",
         "5700000000.0",
         "6.0",
         "1.0",
         "1.0",
         "1.0",
         "1.0",
         "1.0",
         "1.0",
         "1.0",
         "1.0",
         "1.0",
         "1.0",
         "1.0",
         "1.0",
         "1.0",
         "1.0",
         "1.0",
         "1.0",
         "1.0",
         "1.0",
         "1.0",
         "1.0",
         "1.0",
         "16.0",
         "1.0",
         "1.0",
         "1.0",
         "1.0",
         "1.0",
         "1.0",
         "1.0",
         "1.0",
         "1.0",
         "1.0",
         "1.0",
         "1.0",
         "1.0",
         "1.0",
         "1.0",
         "1.0",
         "1.0",
         "1.0",
         "1.0",
         "1.0",
         "1.0",
         "1.0",
         "1.0",
         "1.0",
         "1.0",
         "1.0",
         "1.0",
         "1.0",
         "1.0",
         "1.0",
         "1.0",
         "1.0",
         "1.0",
         "1.0",
         "1.0",
         "1140000000.0",
         "22.463732011962353",
         "4.1588830833596715",
         "1.0",
         "1.0",
         "2.0"
        ]
       ],
       "shape": {
        "columns": 72,
        "rows": 8
       }
      },
      "text/html": [
       "<div>\n",
       "<style scoped>\n",
       "    .dataframe tbody tr th:only-of-type {\n",
       "        vertical-align: middle;\n",
       "    }\n",
       "\n",
       "    .dataframe tbody tr th {\n",
       "        vertical-align: top;\n",
       "    }\n",
       "\n",
       "    .dataframe thead th {\n",
       "        text-align: right;\n",
       "    }\n",
       "</style>\n",
       "<table border=\"1\" class=\"dataframe\">\n",
       "  <thead>\n",
       "    <tr style=\"text-align: right;\">\n",
       "      <th></th>\n",
       "      <th>id</th>\n",
       "      <th>age_first_funding_year</th>\n",
       "      <th>age_last_funding_year</th>\n",
       "      <th>age_first_milestone_year</th>\n",
       "      <th>age_last_milestone_year</th>\n",
       "      <th>relationships</th>\n",
       "      <th>funding_rounds</th>\n",
       "      <th>funding_total_usd</th>\n",
       "      <th>milestones</th>\n",
       "      <th>is_CA</th>\n",
       "      <th>...</th>\n",
       "      <th>category_code_sports</th>\n",
       "      <th>category_code_transportation</th>\n",
       "      <th>category_code_travel</th>\n",
       "      <th>category_code_web</th>\n",
       "      <th>funding_per_round</th>\n",
       "      <th>log_funding_total</th>\n",
       "      <th>log_relationships</th>\n",
       "      <th>has_funding</th>\n",
       "      <th>has_milestone</th>\n",
       "      <th>milestone_ratio</th>\n",
       "    </tr>\n",
       "  </thead>\n",
       "  <tbody>\n",
       "    <tr>\n",
       "      <th>count</th>\n",
       "      <td>646.000000</td>\n",
       "      <td>646.000000</td>\n",
       "      <td>646.000000</td>\n",
       "      <td>646.000000</td>\n",
       "      <td>646.000000</td>\n",
       "      <td>646.000000</td>\n",
       "      <td>646.000000</td>\n",
       "      <td>6.460000e+02</td>\n",
       "      <td>646.000000</td>\n",
       "      <td>646.000000</td>\n",
       "      <td>...</td>\n",
       "      <td>646.000000</td>\n",
       "      <td>646.000000</td>\n",
       "      <td>646.000000</td>\n",
       "      <td>646.000000</td>\n",
       "      <td>6.460000e+02</td>\n",
       "      <td>646.000000</td>\n",
       "      <td>646.000000</td>\n",
       "      <td>646.0</td>\n",
       "      <td>646.000000</td>\n",
       "      <td>646.000000</td>\n",
       "    </tr>\n",
       "    <tr>\n",
       "      <th>mean</th>\n",
       "      <td>461.577399</td>\n",
       "      <td>2.214845</td>\n",
       "      <td>3.981471</td>\n",
       "      <td>2.636455</td>\n",
       "      <td>4.095093</td>\n",
       "      <td>7.948916</td>\n",
       "      <td>2.351393</td>\n",
       "      <td>2.949633e+07</td>\n",
       "      <td>1.913313</td>\n",
       "      <td>0.546440</td>\n",
       "      <td>...</td>\n",
       "      <td>0.001548</td>\n",
       "      <td>0.003096</td>\n",
       "      <td>0.006192</td>\n",
       "      <td>0.150155</td>\n",
       "      <td>7.297385e+06</td>\n",
       "      <td>15.783566</td>\n",
       "      <td>1.902149</td>\n",
       "      <td>1.0</td>\n",
       "      <td>0.840557</td>\n",
       "      <td>0.411958</td>\n",
       "    </tr>\n",
       "    <tr>\n",
       "      <th>std</th>\n",
       "      <td>264.859464</td>\n",
       "      <td>2.458298</td>\n",
       "      <td>2.968292</td>\n",
       "      <td>2.889983</td>\n",
       "      <td>3.468893</td>\n",
       "      <td>7.397602</td>\n",
       "      <td>1.357856</td>\n",
       "      <td>2.261999e+08</td>\n",
       "      <td>1.337095</td>\n",
       "      <td>0.498224</td>\n",
       "      <td>...</td>\n",
       "      <td>0.039344</td>\n",
       "      <td>0.055598</td>\n",
       "      <td>0.078506</td>\n",
       "      <td>0.357500</td>\n",
       "      <td>4.552711e+07</td>\n",
       "      <td>1.866480</td>\n",
       "      <td>0.778078</td>\n",
       "      <td>0.0</td>\n",
       "      <td>0.366372</td>\n",
       "      <td>0.326207</td>\n",
       "    </tr>\n",
       "    <tr>\n",
       "      <th>min</th>\n",
       "      <td>1.000000</td>\n",
       "      <td>0.000000</td>\n",
       "      <td>0.000000</td>\n",
       "      <td>0.000000</td>\n",
       "      <td>0.000000</td>\n",
       "      <td>0.000000</td>\n",
       "      <td>1.000000</td>\n",
       "      <td>1.100000e+04</td>\n",
       "      <td>0.000000</td>\n",
       "      <td>0.000000</td>\n",
       "      <td>...</td>\n",
       "      <td>0.000000</td>\n",
       "      <td>0.000000</td>\n",
       "      <td>0.000000</td>\n",
       "      <td>0.000000</td>\n",
       "      <td>3.666667e+03</td>\n",
       "      <td>9.305741</td>\n",
       "      <td>0.000000</td>\n",
       "      <td>1.0</td>\n",
       "      <td>0.000000</td>\n",
       "      <td>0.000000</td>\n",
       "    </tr>\n",
       "    <tr>\n",
       "      <th>25%</th>\n",
       "      <td>233.250000</td>\n",
       "      <td>0.550000</td>\n",
       "      <td>1.755000</td>\n",
       "      <td>0.000000</td>\n",
       "      <td>1.000000</td>\n",
       "      <td>3.000000</td>\n",
       "      <td>1.000000</td>\n",
       "      <td>3.000000e+06</td>\n",
       "      <td>1.000000</td>\n",
       "      <td>0.000000</td>\n",
       "      <td>...</td>\n",
       "      <td>0.000000</td>\n",
       "      <td>0.000000</td>\n",
       "      <td>0.000000</td>\n",
       "      <td>0.000000</td>\n",
       "      <td>1.058333e+06</td>\n",
       "      <td>14.914123</td>\n",
       "      <td>1.386294</td>\n",
       "      <td>1.0</td>\n",
       "      <td>1.000000</td>\n",
       "      <td>0.166667</td>\n",
       "    </tr>\n",
       "    <tr>\n",
       "      <th>50%</th>\n",
       "      <td>459.500000</td>\n",
       "      <td>1.435000</td>\n",
       "      <td>3.560000</td>\n",
       "      <td>2.000000</td>\n",
       "      <td>3.970000</td>\n",
       "      <td>6.000000</td>\n",
       "      <td>2.000000</td>\n",
       "      <td>1.020000e+07</td>\n",
       "      <td>2.000000</td>\n",
       "      <td>1.000000</td>\n",
       "      <td>...</td>\n",
       "      <td>0.000000</td>\n",
       "      <td>0.000000</td>\n",
       "      <td>0.000000</td>\n",
       "      <td>0.000000</td>\n",
       "      <td>3.372917e+06</td>\n",
       "      <td>16.137706</td>\n",
       "      <td>1.945910</td>\n",
       "      <td>1.0</td>\n",
       "      <td>1.000000</td>\n",
       "      <td>0.363416</td>\n",
       "    </tr>\n",
       "    <tr>\n",
       "      <th>75%</th>\n",
       "      <td>692.500000</td>\n",
       "      <td>3.390000</td>\n",
       "      <td>5.560000</td>\n",
       "      <td>4.000000</td>\n",
       "      <td>6.187500</td>\n",
       "      <td>10.000000</td>\n",
       "      <td>3.000000</td>\n",
       "      <td>2.587500e+07</td>\n",
       "      <td>3.000000</td>\n",
       "      <td>1.000000</td>\n",
       "      <td>...</td>\n",
       "      <td>0.000000</td>\n",
       "      <td>0.000000</td>\n",
       "      <td>0.000000</td>\n",
       "      <td>0.000000</td>\n",
       "      <td>6.825000e+06</td>\n",
       "      <td>17.068753</td>\n",
       "      <td>2.397895</td>\n",
       "      <td>1.0</td>\n",
       "      <td>1.000000</td>\n",
       "      <td>0.599701</td>\n",
       "    </tr>\n",
       "    <tr>\n",
       "      <th>max</th>\n",
       "      <td>923.000000</td>\n",
       "      <td>21.900000</td>\n",
       "      <td>21.900000</td>\n",
       "      <td>24.680000</td>\n",
       "      <td>24.680000</td>\n",
       "      <td>63.000000</td>\n",
       "      <td>8.000000</td>\n",
       "      <td>5.700000e+09</td>\n",
       "      <td>6.000000</td>\n",
       "      <td>1.000000</td>\n",
       "      <td>...</td>\n",
       "      <td>1.000000</td>\n",
       "      <td>1.000000</td>\n",
       "      <td>1.000000</td>\n",
       "      <td>1.000000</td>\n",
       "      <td>1.140000e+09</td>\n",
       "      <td>22.463732</td>\n",
       "      <td>4.158883</td>\n",
       "      <td>1.0</td>\n",
       "      <td>1.000000</td>\n",
       "      <td>2.000000</td>\n",
       "    </tr>\n",
       "  </tbody>\n",
       "</table>\n",
       "<p>8 rows × 72 columns</p>\n",
       "</div>"
      ],
      "text/plain": [
       "               id  age_first_funding_year  age_last_funding_year  \\\n",
       "count  646.000000              646.000000             646.000000   \n",
       "mean   461.577399                2.214845               3.981471   \n",
       "std    264.859464                2.458298               2.968292   \n",
       "min      1.000000                0.000000               0.000000   \n",
       "25%    233.250000                0.550000               1.755000   \n",
       "50%    459.500000                1.435000               3.560000   \n",
       "75%    692.500000                3.390000               5.560000   \n",
       "max    923.000000               21.900000              21.900000   \n",
       "\n",
       "       age_first_milestone_year  age_last_milestone_year  relationships  \\\n",
       "count                646.000000               646.000000     646.000000   \n",
       "mean                   2.636455                 4.095093       7.948916   \n",
       "std                    2.889983                 3.468893       7.397602   \n",
       "min                    0.000000                 0.000000       0.000000   \n",
       "25%                    0.000000                 1.000000       3.000000   \n",
       "50%                    2.000000                 3.970000       6.000000   \n",
       "75%                    4.000000                 6.187500      10.000000   \n",
       "max                   24.680000                24.680000      63.000000   \n",
       "\n",
       "       funding_rounds  funding_total_usd  milestones       is_CA  ...  \\\n",
       "count      646.000000       6.460000e+02  646.000000  646.000000  ...   \n",
       "mean         2.351393       2.949633e+07    1.913313    0.546440  ...   \n",
       "std          1.357856       2.261999e+08    1.337095    0.498224  ...   \n",
       "min          1.000000       1.100000e+04    0.000000    0.000000  ...   \n",
       "25%          1.000000       3.000000e+06    1.000000    0.000000  ...   \n",
       "50%          2.000000       1.020000e+07    2.000000    1.000000  ...   \n",
       "75%          3.000000       2.587500e+07    3.000000    1.000000  ...   \n",
       "max          8.000000       5.700000e+09    6.000000    1.000000  ...   \n",
       "\n",
       "       category_code_sports  category_code_transportation  \\\n",
       "count            646.000000                    646.000000   \n",
       "mean               0.001548                      0.003096   \n",
       "std                0.039344                      0.055598   \n",
       "min                0.000000                      0.000000   \n",
       "25%                0.000000                      0.000000   \n",
       "50%                0.000000                      0.000000   \n",
       "75%                0.000000                      0.000000   \n",
       "max                1.000000                      1.000000   \n",
       "\n",
       "       category_code_travel  category_code_web  funding_per_round  \\\n",
       "count            646.000000         646.000000       6.460000e+02   \n",
       "mean               0.006192           0.150155       7.297385e+06   \n",
       "std                0.078506           0.357500       4.552711e+07   \n",
       "min                0.000000           0.000000       3.666667e+03   \n",
       "25%                0.000000           0.000000       1.058333e+06   \n",
       "50%                0.000000           0.000000       3.372917e+06   \n",
       "75%                0.000000           0.000000       6.825000e+06   \n",
       "max                1.000000           1.000000       1.140000e+09   \n",
       "\n",
       "       log_funding_total  log_relationships  has_funding  has_milestone  \\\n",
       "count         646.000000         646.000000        646.0     646.000000   \n",
       "mean           15.783566           1.902149          1.0       0.840557   \n",
       "std             1.866480           0.778078          0.0       0.366372   \n",
       "min             9.305741           0.000000          1.0       0.000000   \n",
       "25%            14.914123           1.386294          1.0       1.000000   \n",
       "50%            16.137706           1.945910          1.0       1.000000   \n",
       "75%            17.068753           2.397895          1.0       1.000000   \n",
       "max            22.463732           4.158883          1.0       1.000000   \n",
       "\n",
       "       milestone_ratio  \n",
       "count       646.000000  \n",
       "mean          0.411958  \n",
       "std           0.326207  \n",
       "min           0.000000  \n",
       "25%           0.166667  \n",
       "50%           0.363416  \n",
       "75%           0.599701  \n",
       "max           2.000000  \n",
       "\n",
       "[8 rows x 72 columns]"
      ]
     },
     "execution_count": 50,
     "metadata": {},
     "output_type": "execute_result"
    }
   ],
   "source": [
    "train.describe() # mostra as estatísticas descritivas do dataframe"
   ]
  },
  {
   "cell_type": "markdown",
   "id": "6eec9ef8",
   "metadata": {},
   "source": [
    "Desenvolvimento de mapa de calor para visualizar as correlações entre os atributos preditivos e a variável target, identificando relações lineares que podem influenciar o desempenho do modelo."
   ]
  },
  {
   "cell_type": "code",
   "execution_count": 51,
   "id": "b2e058dd",
   "metadata": {},
   "outputs": [
    {
     "data": {
      "image/png": "[encoded data removed]",
      "text/plain": [
       "<Figure size 1200x600 with 2 Axes>"
      ]
     },
     "metadata": {},
     "output_type": "display_data"
    }
   ],
   "source": [
    "corr = train.corr(numeric_only=True) # calcula a correlação das variáveis\n",
    "plt.figure(figsize=(12,6)) # define o tamanho da figura\n",
    "sns.heatmap(corr[['labels']].sort_values(by='labels', ascending=False), annot=True, cmap='RdPu') # plota um heatmap com a correlação das variáveis com a variável alvo\n",
    "plt.title('Correlação das Variáveis com a Variável Alvo') # define o titulo do gráfico\n",
    "plt.show() # mostra o gráfico"
   ]
  },
  {
   "cell_type": "markdown",
   "id": "cc21206e",
   "metadata": {},
   "source": [
    "### Validação de Hipóteses de Negócio\n",
    "\n",
    "Investigação de premissas sobre fatores que podem influenciar o sucesso de startups através de análises visuais e estatísticas direcionadas."
   ]
  },
  {
   "cell_type": "markdown",
   "id": "dacdb270",
   "metadata": {},
   "source": [
    "- **Hipótese 1**: Startups que passaram por mais rodadas de financiamento apresentam maior probabilidade de sucesso (confirmada através da visualização comparativa abaixo)"
   ]
  },
  {
   "cell_type": "code",
   "execution_count": 52,
   "id": "d67a80da",
   "metadata": {},
   "outputs": [
    {
     "name": "stderr",
     "output_type": "stream",
     "text": [
      "C:\\Users\\Inteli\\AppData\\Local\\Temp\\ipykernel_16236\\2884326043.py:1: FutureWarning: \n",
      "\n",
      "Passing `palette` without assigning `hue` is deprecated and will be removed in v0.14.0. Assign the `x` variable to `hue` and set `legend=False` for the same effect.\n",
      "\n",
      "  sns.boxplot(x='labels', y='funding_rounds', data=train, palette=['#FFB6C1', '#FF1493']) # plota um boxplot com a variável 'funding_rounds' por classe\n"
     ]
    },
    {
     "data": {
      "image/png": "[encoded data removed]",
      "text/plain": [
       "<Figure size 640x480 with 1 Axes>"
      ]
     },
     "metadata": {},
     "output_type": "display_data"
    }
   ],
   "source": [
    "sns.boxplot(x='labels', y='funding_rounds', data=train, palette=['#FFB6C1', '#FF1493']) # plota um boxplot com a variável 'funding_rounds' por classe\n",
    "plt.title('Funding rounds por classe') # define o titulo do gráfico\n",
    "plt.show() # mostra o gráfico"
   ]
  },
  {
   "cell_type": "markdown",
   "id": "5a90b526",
   "metadata": {},
   "source": [
    "- **Hipótese 2**: Empresas com maior número de marcos registrados demonstram tendência superior ao sucesso (evidência suportada pela análise gráfica subsequente)"
   ]
  },
  {
   "cell_type": "code",
   "execution_count": 53,
   "id": "1d593dba",
   "metadata": {},
   "outputs": [
    {
     "name": "stderr",
     "output_type": "stream",
     "text": [
      "C:\\Users\\Inteli\\AppData\\Local\\Temp\\ipykernel_16236\\1778487115.py:1: FutureWarning: \n",
      "\n",
      "Passing `palette` without assigning `hue` is deprecated and will be removed in v0.14.0. Assign the `x` variable to `hue` and set `legend=False` for the same effect.\n",
      "\n",
      "  sns.boxplot(x='labels', y='milestones', data=train, palette=['#FFB6C1', '#FF1493']) # plota um boxplot com a variável 'milestones' por classe\n"
     ]
    },
    {
     "data": {
      "image/png": "[encoded data removed]",
      "text/plain": [
       "<Figure size 640x480 with 1 Axes>"
      ]
     },
     "metadata": {},
     "output_type": "display_data"
    }
   ],
   "source": [
    "sns.boxplot(x='labels', y='milestones', data=train, palette=['#FFB6C1', '#FF1493']) # plota um boxplot com a variável 'milestones' por classe\n",
    "plt.title('Milestones por classe') # define o titulo do gráfico\n",
    "plt.show() # mostra o gráfico"
   ]
  },
  {
   "cell_type": "markdown",
   "id": "9d2762a5",
   "metadata": {},
   "source": [
    "- **Hipótese 3**: Localização geográfica na Califórnia representa vantagem competitiva para o sucesso empresarial (validada através da comparação estatística apresentada)"
   ]
  },
  {
   "cell_type": "code",
   "execution_count": 54,
   "id": "374c7ba2",
   "metadata": {},
   "outputs": [
    {
     "name": "stderr",
     "output_type": "stream",
     "text": [
      "C:\\Users\\Inteli\\AppData\\Local\\Temp\\ipykernel_16236\\2588378363.py:3: FutureWarning: \n",
      "\n",
      "Passing `palette` without assigning `hue` is deprecated and will be removed in v0.14.0. Assign the `x` variable to `hue` and set `legend=False` for the same effect.\n",
      "\n",
      "  sns.barplot(x='is_CA', y='labels', data=train, palette=['#FFB6C1', '#FF1493']) # plota um gráfico de barras com a proporção de sucesso pelo estado da Califórnia em comparação com os outros estados\n"
     ]
    },
    {
     "name": "stdout",
     "output_type": "stream",
     "text": [
      "is_CA\n",
      "0    0.593857\n",
      "1    0.691218\n",
      "Name: labels, dtype: float64\n"
     ]
    },
    {
     "data": {
      "image/png": "[encoded data removed]",
      "text/plain": [
       "<Figure size 640x480 with 1 Axes>"
      ]
     },
     "metadata": {},
     "output_type": "display_data"
    }
   ],
   "source": [
    "print(train.groupby('is_CA')['labels'].mean()) # verifica a quantidade de sucesso no estado da California\n",
    "\n",
    "sns.barplot(x='is_CA', y='labels', data=train, palette=['#FFB6C1', '#FF1493']) # plota um gráfico de barras com a proporção de sucesso pelo estado da Califórnia em comparação com os outros estados\n",
    "plt.title('Proporção de sucesso por estado (CA vs Outros)') # define o titulo do gráfico\n",
    "plt.show() # mostra o gráfico"
   ]
  },
  {
   "cell_type": "markdown",
   "id": "64db53f4",
   "metadata": {},
   "source": [
    "### Curadoria de Atributos Preditivos\n",
    "\n",
    "Processo de seleção criteriosa das variáveis mais relevantes baseado na análise de correlação e validação das hipóteses de negócio, visando otimizar a performance do modelo."
   ]
  },
  {
   "cell_type": "code",
   "execution_count": 55,
   "id": "26658e5b",
   "metadata": {},
   "outputs": [
    {
     "data": {
      "image/png": "[encoded data removed]",
      "text/plain": [
       "<Figure size 800x600 with 2 Axes>"
      ]
     },
     "metadata": {},
     "output_type": "display_data"
    }
   ],
   "source": [
    "# features que serão utilizadas no modelo\n",
    "features_selecionadas = ['funding_rounds',\n",
    "                        'milestones',\n",
    "                        'is_CA',\n",
    "                        'funding_total_usd',\n",
    "                        'relationships',\n",
    "                        'avg_participants',\n",
    "                        'labels',\n",
    "                        'has_milestone',\n",
    "                        'has_roundA']\n",
    "\n",
    "corr = train[features_selecionadas].corr() # calcula a correlação das variáveis\n",
    "plt.figure(figsize=(8, 6)) # define o tamanho da figura\n",
    "sns.heatmap(corr, annot=True, cmap='RdPu', fmt=\".2f\") # plota um heatmap com a correlação das variáveis com a variável alvo\n",
    "plt.title('Correlação entre features selecionadas e a variável alvo') # define o titulo do gráfico\n",
    "plt.show() # mostra o gráfico"
   ]
  },
  {
   "cell_type": "markdown",
   "id": "13b2c74c",
   "metadata": {},
   "source": [
    "Visualização comparativa das principais variáveis selecionadas, segmentadas por classe de resultado, para validar o poder discriminatório dos atributos escolhidos com base no mapeamento de correlações."
   ]
  },
  {
   "cell_type": "code",
   "execution_count": 56,
   "id": "a163ca57",
   "metadata": {},
   "outputs": [
    {
     "name": "stderr",
     "output_type": "stream",
     "text": [
      "C:\\Users\\Inteli\\AppData\\Local\\Temp\\ipykernel_16236\\3735785835.py:2: FutureWarning: \n",
      "\n",
      "Passing `palette` without assigning `hue` is deprecated and will be removed in v0.14.0. Assign the `x` variable to `hue` and set `legend=False` for the same effect.\n",
      "\n",
      "  sns.boxplot(x='labels', y=col, data=train, palette=['#FFB6C1', '#FF1493']) # plota um boxplot com a variável 'col' por classe\n"
     ]
    },
    {
     "data": {
      "image/png": "[encoded data removed]",
      "text/plain": [
       "<Figure size 640x480 with 1 Axes>"
      ]
     },
     "metadata": {},
     "output_type": "display_data"
    },
    {
     "name": "stderr",
     "output_type": "stream",
     "text": [
      "C:\\Users\\Inteli\\AppData\\Local\\Temp\\ipykernel_16236\\3735785835.py:2: FutureWarning: \n",
      "\n",
      "Passing `palette` without assigning `hue` is deprecated and will be removed in v0.14.0. Assign the `x` variable to `hue` and set `legend=False` for the same effect.\n",
      "\n",
      "  sns.boxplot(x='labels', y=col, data=train, palette=['#FFB6C1', '#FF1493']) # plota um boxplot com a variável 'col' por classe\n"
     ]
    },
    {
     "data": {
      "image/png": "[encoded data removed]",
      "text/plain": [
       "<Figure size 640x480 with 1 Axes>"
      ]
     },
     "metadata": {},
     "output_type": "display_data"
    },
    {
     "name": "stderr",
     "output_type": "stream",
     "text": [
      "C:\\Users\\Inteli\\AppData\\Local\\Temp\\ipykernel_16236\\3735785835.py:2: FutureWarning: \n",
      "\n",
      "Passing `palette` without assigning `hue` is deprecated and will be removed in v0.14.0. Assign the `x` variable to `hue` and set `legend=False` for the same effect.\n",
      "\n",
      "  sns.boxplot(x='labels', y=col, data=train, palette=['#FFB6C1', '#FF1493']) # plota um boxplot com a variável 'col' por classe\n"
     ]
    },
    {
     "data": {
      "image/png": "[encoded data removed]",
      "text/plain": [
       "<Figure size 640x480 with 1 Axes>"
      ]
     },
     "metadata": {},
     "output_type": "display_data"
    },
    {
     "name": "stderr",
     "output_type": "stream",
     "text": [
      "C:\\Users\\Inteli\\AppData\\Local\\Temp\\ipykernel_16236\\3735785835.py:2: FutureWarning: \n",
      "\n",
      "Passing `palette` without assigning `hue` is deprecated and will be removed in v0.14.0. Assign the `x` variable to `hue` and set `legend=False` for the same effect.\n",
      "\n",
      "  sns.boxplot(x='labels', y=col, data=train, palette=['#FFB6C1', '#FF1493']) # plota um boxplot com a variável 'col' por classe\n"
     ]
    },
    {
     "data": {
      "image/png": "[encoded data removed]",
      "text/plain": [
       "<Figure size 640x480 with 1 Axes>"
      ]
     },
     "metadata": {},
     "output_type": "display_data"
    }
   ],
   "source": [
    "for col in ['funding_rounds', 'milestones', 'relationships', 'avg_participants']: # defeine a variável 'col' para plotar os quatro gráficos\n",
    "    sns.boxplot(x='labels', y=col, data=train, palette=['#FFB6C1', '#FF1493']) # plota um boxplot com a variável 'col' por classe\n",
    "    plt.title(f'{col} por classe') # define o titulo do gráfico\n",
    "    plt.show() # mostra o gráfico"
   ]
  },
  {
   "cell_type": "markdown",
   "id": "156ce3f9",
   "metadata": {},
   "source": [
    "Análise quantitativa das médias dos atributos mais correlacionados com a variável target, estratificada por classe de resultado, para confirmar a relevância estatística das variáveis selecionadas."
   ]
  },
  {
   "cell_type": "code",
   "execution_count": 57,
   "id": "80aa69ce",
   "metadata": {},
   "outputs": [
    {
     "name": "stdout",
     "output_type": "stream",
     "text": [
      "        funding_rounds  milestones  funding_total_usd  relationships  \\\n",
      "labels                                                                 \n",
      "0             1.960526    1.307018       1.613087e+07       4.517544   \n",
      "1             2.564593    2.244019       3.678658e+07       9.820574   \n",
      "\n",
      "        avg_participants     is_CA  has_milestone  \n",
      "labels                                             \n",
      "0               2.350282  0.478070       0.688596  \n",
      "1               3.120496  0.583732       0.923445  \n"
     ]
    }
   ],
   "source": [
    "# agrupa cada features com a variável alvo para ver a proporção de sucesso e fracasso em cada variável\n",
    "print(train.groupby('labels')[['funding_rounds',\n",
    "                            'milestones',\n",
    "                            'funding_total_usd',\n",
    "                            'relationships',\n",
    "                            'avg_participants',\n",
    "                            'is_CA',\n",
    "                            'has_milestone']].mean())"
   ]
  },
  {
   "cell_type": "markdown",
   "id": "3944a585",
   "metadata": {},
   "source": [
    "### Desenvolvimento e Validação do Modelo Preditivo"
   ]
  },
  {
   "cell_type": "markdown",
   "id": "1354b627",
   "metadata": {},
   "source": [
    "Experimentação comparativa de múltiplos algoritmos de aprendizado de máquina para identificar a abordagem que apresenta melhor desempenho na predição da variável target. A avaliação é conduzida através de validação cruzada e métricas diversificadas incluindo acurácia, precisão, recall e F1-score."
   ]
  },
  {
   "cell_type": "code",
   "execution_count": 58,
   "id": "9e6dba6d",
   "metadata": {},
   "outputs": [
    {
     "name": "stdout",
     "output_type": "stream",
     "text": [
      "Logistic Regression: 0.65 + 0.00\n",
      "Decision Tree: 0.69 + 0.04\n",
      "Random Forest: 0.77 + 0.03\n",
      "Random Forest: 0.77 + 0.03\n",
      "Gradient Boosting: 0.79 + 0.02\n",
      "KNN: 0.69 + 0.04\n",
      "Gradient Boosting: 0.79 + 0.02\n",
      "KNN: 0.69 + 0.04\n"
     ]
    }
   ],
   "source": [
    "from sklearn.model_selection import cross_val_score, StratifiedKFold # importa o cross_val_score e o StratifiedKFold\n",
    "from sklearn.linear_model import LogisticRegression # importa o LogisticRegression\n",
    "from sklearn.ensemble import RandomForestClassifier, GradientBoostingClassifier # importa o RandomForestClassifier e o GradientBoostingClassifier\n",
    "from sklearn.tree import DecisionTreeClassifier # importa o DecisionTreeClassifier\n",
    "from sklearn.neighbors import KNeighborsClassifier # importa o KNeighborsClassifier\n",
    "\n",
    "# features que serão utilizadas no modelo\n",
    "features = ['funding_rounds',\n",
    "                            'milestones',\n",
    "                            'funding_total_usd',\n",
    "                            'relationships',\n",
    "                            'avg_participants',\n",
    "                            'is_CA',\n",
    "                            'has_milestone']\n",
    "\n",
    "X = train[features] # define as features\n",
    "y = train['labels'] # define a variável alvo\n",
    "\n",
    "cv = StratifiedKFold(n_splits=5, shuffle=True, random_state=42) # define o cross validation\n",
    "\n",
    "# define os cinco modelos que serão testados\n",
    "modelos = {\n",
    "    \"Logistic Regression\": LogisticRegression(max_iter=1000, class_weight='balanced', random_state=42),\n",
    "    \"Decision Tree\": DecisionTreeClassifier(random_state=42),\n",
    "    \"Random Forest\": RandomForestClassifier(random_state=42),\n",
    "    \"Gradient Boosting\": GradientBoostingClassifier(random_state=42),\n",
    "    \"KNN\": KNeighborsClassifier() \n",
    "}\n",
    "\n",
    "# testa os cinco modelos e mostra a acurácia de cada um e o desvio padrão\n",
    "for nome, modelo in modelos.items():\n",
    "    scores = cross_val_score(modelo, X, y, cv=cv, scoring='accuracy')\n",
    "    print(f\"{nome}: {scores.mean():.2f} + {scores.std():.2f}\")"
   ]
  },
  {
   "cell_type": "markdown",
   "id": "7974f321",
   "metadata": {},
   "source": [
    "Baseando-se nos resultados da avaliação comparativa anterior, o algoritmo Gradient Boosting Classifier foi selecionado como solução final devido ao seu desempenho superior na predição da variável target em questão."
   ]
  },
  {
   "cell_type": "code",
   "execution_count": 59,
   "id": "1a8be70a",
   "metadata": {},
   "outputs": [
    {
     "name": "stdout",
     "output_type": "stream",
     "text": [
      "Acurácia: 0.7769230769230769\n",
      "\n",
      "Relatório de Classificação:\n",
      "               precision    recall  f1-score   support\n",
      "\n",
      "           0       0.74      0.57      0.64        46\n",
      "           1       0.79      0.89      0.84        84\n",
      "\n",
      "    accuracy                           0.78       130\n",
      "   macro avg       0.77      0.73      0.74       130\n",
      "weighted avg       0.77      0.78      0.77       130\n",
      "\n",
      "Matriz de Confusão:\n",
      " [[26 20]\n",
      " [ 9 75]]\n"
     ]
    }
   ],
   "source": [
    "from sklearn.model_selection import train_test_split # importa o train_test_split\n",
    "from sklearn.metrics import accuracy_score, classification_report, confusion_matrix # importa o accuracy_score, classification_report e confusion_matrix\n",
    "\n",
    "X = train.drop(columns=['labels', 'id']) # define as features\n",
    "y = train['labels'] # define a variável alvo\n",
    "\n",
    "X_train, X_val, y_train, y_val = train_test_split(X, y, test_size=0.2, stratify=y, random_state=42) # divide o dataset em treino e validação\n",
    "\n",
    "gb = GradientBoostingClassifier(random_state=42) # define o modelo (Gradient Boosting)\n",
    "gb.fit(X_train, y_train) # treina o modelo\n",
    "\n",
    "y_pred = gb.predict(X_val) # prediz os valores de y para o conjunto de validação\n",
    "\n",
    "print(\"Acurácia:\", accuracy_score(y_val, y_pred)) # mostra a acurácia do modelo\n",
    "print(\"\\nRelatório de Classificação:\\n\", classification_report(y_val, y_pred, digits=2)) # mostra o relatório de classificação do modelo\n",
    "print(\"Matriz de Confusão:\\n\", confusion_matrix(y_val, y_pred)) # mostra a matriz de confusão do modelo"
   ]
  },
  {
   "cell_type": "markdown",
   "id": "8d7fd622",
   "metadata": {},
   "source": [
    "### Otimização de Hiperparâmetros\n",
    "\n",
    "Implementação de busca sistemática para identificar a configuração ótima de hiperparâmetros do algoritmo selecionado, maximizando a performance preditiva através de técnicas de grid search e validação cruzada."
   ]
  },
  {
   "cell_type": "code",
   "execution_count": 60,
   "id": "e2deb58f",
   "metadata": {},
   "outputs": [
    {
     "name": "stdout",
     "output_type": "stream",
     "text": [
      "Fitting 5 folds for each of 54 candidates, totalling 270 fits\n",
      "Melhores parâmetros: {'learning_rate': 0.1, 'max_depth': 3, 'n_estimators': 100, 'subsample': 0.8}\n",
      "Melhor acurácia média (CV): 0.7987119856887299\n",
      "Melhores parâmetros: {'learning_rate': 0.1, 'max_depth': 3, 'n_estimators': 100, 'subsample': 0.8}\n",
      "Melhor acurácia média (CV): 0.7987119856887299\n"
     ]
    }
   ],
   "source": [
    "from sklearn.model_selection import GridSearchCV # importa o GridSearchCV\n",
    "\n",
    "# define os parâmetros que serão testados\n",
    "param_grid = { \n",
    "    'n_estimators': [100, 200, 300],\n",
    "    'learning_rate': [0.05, 0.1, 0.2],\n",
    "    'max_depth': [3, 4, 5],\n",
    "    'subsample': [0.8, 1.0]\n",
    "}\n",
    "\n",
    "# define o grid search\n",
    "grid = GridSearchCV( \n",
    "    estimator=gb,\n",
    "    param_grid=param_grid,\n",
    "    cv=5,\n",
    "    scoring='accuracy',\n",
    "    n_jobs=-1,\n",
    "    verbose=1\n",
    ")\n",
    "\n",
    "grid.fit(X, y) # treina o modelo\n",
    "\n",
    "print(\"Melhores parâmetros:\", grid.best_params_) # mostra os melhores parâmetros\n",
    "print(\"Melhor acurácia média (CV):\", grid.best_score_) # mostra a melhor acurácia média"
   ]
  },
  {
   "cell_type": "markdown",
   "id": "af3d4fde",
   "metadata": {},
   "source": [
    "Consolidação do modelo otimizado utilizando a configuração de hiperparâmetros que demonstrou melhor performance. Aplicação do modelo treinado ao conjunto de teste para geração das predições finais e preparação do arquivo de submissão para a competição Kaggle."
   ]
  },
  {
   "cell_type": "code",
   "execution_count": 61,
   "id": "ecdb2914",
   "metadata": {},
   "outputs": [
    {
     "name": "stdout",
     "output_type": "stream",
     "text": [
      "Arquivo salvo: submission.csv\n"
     ]
    }
   ],
   "source": [
    "best_gb = grid.best_estimator_ # define o modelo com os melhores parâmetros\n",
    "\n",
    "best_gb.fit(X, y) # treina o modelo\n",
    "\n",
    "test_pred = best_gb.predict(test.drop(columns=['id'])) # prediz os valores de y para o conjunto de teste\n",
    "\n",
    "sample = pd.read_csv(\"sample_submission.csv\") # importa o arquivo de submissão\n",
    "\n",
    "sample['labels'] = test_pred # adiciona a coluna de predição no arquivo de submissão\n",
    "\n",
    "sample.to_csv(\"submission.csv\", index=False) # salva o arquivo de submissão\n",
    "print(\"Arquivo salvo: submission.csv\") # confirma que o arquivo foi salvo"
   ]
  },
  {
   "cell_type": "markdown",
   "id": "b749f17c",
   "metadata": {},
   "source": [
    "### Visualização dos Resultados Finais\n",
    "\n",
    "Apresentação gráfica consolidada dos principais resultados obtidos pelo modelo otimizado através de visualizações que demonstram a performance e distribuição das predições."
   ]
  },
  {
   "cell_type": "code",
   "execution_count": 63,
   "id": "ac261738",
   "metadata": {},
   "outputs": [
    {
     "data": {
      "image/png": "[encoded data removed]",
      "text/plain": [
       "<Figure size 1000x600 with 1 Axes>"
      ]
     },
     "metadata": {},
     "output_type": "display_data"
    },
    {
     "data": {
      "image/png": "[encoded data removed]",
      "text/plain": [
       "<Figure size 800x800 with 1 Axes>"
      ]
     },
     "metadata": {},
     "output_type": "display_data"
    },
    {
     "data": {
      "image/png": "[encoded data removed]",
      "text/plain": [
       "<Figure size 800x600 with 2 Axes>"
      ]
     },
     "metadata": {},
     "output_type": "display_data"
    },
    {
     "data": {
      "image/png": "[encoded data removed]",
      "text/plain": [
       "<Figure size 1000x800 with 1 Axes>"
      ]
     },
     "metadata": {},
     "output_type": "display_data"
    },
    {
     "name": "stdout",
     "output_type": "stream",
     "text": [
      "============================================================\n",
      "RESUMO DOS RESULTADOS FINAIS\n",
      "============================================================\n",
      "Acurácia do Modelo: 0.7769\n",
      "AUC-ROC: 0.9847\n",
      "Distribuição das Predições no Teste: [ 88 189]\n",
      "Proporção de Sucessos Preditos: 0.6823\n",
      "============================================================\n"
     ]
    }
   ],
   "source": [
    "# Preparação dos dados para visualização final\n",
    "from sklearn.metrics import roc_curve, auc, precision_recall_curve\n",
    "import matplotlib.pyplot as plt\n",
    "import seaborn as sns\n",
    "\n",
    "# Configuração do estilo para tons de rosa\n",
    "plt.style.use('default')\n",
    "colors_pink = ['#FFB6C1', '#FF69B4', '#FF1493', '#DC143C', '#B22222']\n",
    "\n",
    "# 1. Distribuição das Probabilidades Preditas\n",
    "plt.figure(figsize=(10, 6))\n",
    "y_pred_proba = best_gb.predict_proba(X_val)[:, 1]\n",
    "plt.hist(y_pred_proba[y_val == 0], bins=30, alpha=0.7, label='Fracasso', color='#FFB6C1')\n",
    "plt.hist(y_pred_proba[y_val == 1], bins=30, alpha=0.7, label='Sucesso', color='#FF1493')\n",
    "plt.xlabel('Probabilidade Predita')\n",
    "plt.ylabel('Frequência')\n",
    "plt.title('Distribuição das Probabilidades Preditas', fontsize=14, fontweight='bold')\n",
    "plt.legend()\n",
    "plt.grid(True, alpha=0.3)\n",
    "plt.tight_layout()\n",
    "plt.show()\n",
    "\n",
    "# 2. Curva ROC\n",
    "plt.figure(figsize=(8, 8))\n",
    "fpr, tpr, _ = roc_curve(y_val, y_pred_proba)\n",
    "roc_auc = auc(fpr, tpr)\n",
    "plt.plot(fpr, tpr, color='#FF1493', lw=3, label=f'ROC Curve (AUC = {roc_auc:.3f})')\n",
    "plt.plot([0, 1], [0, 1], color='#FFB6C1', lw=2, linestyle='--', alpha=0.7)\n",
    "plt.xlim([0.0, 1.0])\n",
    "plt.ylim([0.0, 1.05])\n",
    "plt.xlabel('Taxa de Falsos Positivos')\n",
    "plt.ylabel('Taxa de Verdadeiros Positivos')\n",
    "plt.title('Curva ROC', fontsize=14, fontweight='bold')\n",
    "plt.legend(loc=\"lower right\")\n",
    "plt.grid(True, alpha=0.3)\n",
    "plt.tight_layout()\n",
    "plt.show()\n",
    "\n",
    "# 3. Matriz de Confusão Normalizada\n",
    "plt.figure(figsize=(8, 6))\n",
    "from sklearn.metrics import confusion_matrix\n",
    "cm = confusion_matrix(y_val, y_pred)\n",
    "cm_normalized = cm.astype('float') / cm.sum(axis=1)[:, np.newaxis]\n",
    "sns.heatmap(cm_normalized, annot=True, fmt='.2f', cmap='RdPu',\n",
    "            xticklabels=['Fracasso', 'Sucesso'], yticklabels=['Fracasso', 'Sucesso'])\n",
    "plt.title('Matriz de Confusão Normalizada', fontsize=14, fontweight='bold')\n",
    "plt.xlabel('Predito')\n",
    "plt.ylabel('Real')\n",
    "plt.tight_layout()\n",
    "plt.show()\n",
    "\n",
    "# 4. Importância das Features\n",
    "plt.figure(figsize=(10, 8))\n",
    "feature_importance = best_gb.feature_importances_\n",
    "feature_names = X.columns\n",
    "importance_df = pd.DataFrame({\n",
    "    'feature': feature_names,\n",
    "    'importance': feature_importance\n",
    "}).sort_values('importance', ascending=True).tail(10)\n",
    "\n",
    "bars = plt.barh(importance_df['feature'], importance_df['importance'], color='#FF69B4')\n",
    "plt.xlabel('Importância')\n",
    "plt.title('Top 10 Features Mais Importantes', fontsize=14, fontweight='bold')\n",
    "plt.grid(True, alpha=0.3, axis='x')\n",
    "\n",
    "# Adicionando valores nas barras\n",
    "for i, bar in enumerate(bars):\n",
    "    width = bar.get_width()\n",
    "    plt.text(width + 0.001, bar.get_y() + bar.get_height()/2, \n",
    "             f'{width:.3f}', ha='left', va='center', fontsize=9)\n",
    "\n",
    "plt.tight_layout()\n",
    "plt.show()\n",
    "\n",
    "# Resumo das métricas finais\n",
    "print(\"=\"*60)\n",
    "print(\"RESUMO DOS RESULTADOS FINAIS\")\n",
    "print(\"=\"*60)\n",
    "print(f\"Acurácia do Modelo: {accuracy_score(y_val, y_pred):.4f}\")\n",
    "print(f\"AUC-ROC: {roc_auc:.4f}\")\n",
    "print(f\"Distribuição das Predições no Teste: {np.bincount(test_pred)}\")\n",
    "print(f\"Proporção de Sucessos Preditos: {test_pred.mean():.4f}\")\n",
    "print(\"=\"*60)"
   ]
  }
 ],
 "metadata": {
  "kernelspec": {
   "display_name": "Python 3",
   "language": "python",
   "name": "python3"
  },
  "language_info": {
   "codemirror_mode": {
    "name": "ipython",
    "version": 3
   },
   "file_extension": ".py",
   "mimetype": "text/x-python",
   "name": "python",
   "nbconvert_exporter": "python",
   "pygments_lexer": "ipython3",
   "version": "3.13.5"
  }
 },
 "nbformat": 4,
 "nbformat_minor": 5
}
